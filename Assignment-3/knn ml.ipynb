{
 "cells": [
  {
   "cell_type": "code",
   "execution_count": 2,
   "id": "4ebfe701-87ad-47d4-b9e2-dd5d99777e4b",
   "metadata": {},
   "outputs": [],
   "source": [
    "from sklearn.datasets import make_classification\n",
    "from sklearn.model_selection import train_test_split\n",
    "from sklearn.preprocessing import StandardScaler\n",
    "from sklearn.neighbors import KNeighborsClassifier\n",
    "from sklearn.metrics import accuracy_score"
   ]
  },
  {
   "cell_type": "code",
   "execution_count": 3,
   "id": "30b34b37-8267-4008-b28a-0f552ebf7d88",
   "metadata": {},
   "outputs": [
    {
     "name": "stdout",
     "output_type": "stream",
     "text": [
      "Nearest Neighbors:\n",
      "Neighbor1:Index613,Distance3.14\n",
      "Neighbor2:Index736,Distance3.49\n",
      "Neighbor3:Index217,Distance3.67\n",
      "Neighbor4:Index420,Distance3.67\n",
      "Neighbor5:Index281,Distance3.70\n"
     ]
    }
   ],
   "source": [
    "#generate synthetic dataset\n",
    "x,y=make_classification(n_samples=1000, n_features=20, n_classes=2, random_state=42)\n",
    "x_train,x_test,y_train,y_test=train_test_split(x,y,test_size=0.2,random_state=42)\n",
    "#feature scaling for improving knn performance \n",
    "scaler=StandardScaler()\n",
    "x_train_scaled=scaler.fit_transform(x_train)\n",
    "x_test_scaled=scaler.transform(x_test)\n",
    "knn=KNeighborsClassifier(n_neighbors=5)\n",
    "#train knn classifier\n",
    "knn.fit(x_train_scaled,y_train)\n",
    "#choose test_instance_index\n",
    "test_instance_index=0\n",
    "test_instance=x_test_scaled[test_instance_index:test_instance_index+1]\n",
    "#find nearest neighbors for the choosen test \n",
    "distances,indices=knn.kneighbors(test_instance)\n",
    "print(\"Nearest Neighbors:\")\n",
    "for i , idx in enumerate(indices[0]):\n",
    " print(f\"Neighbor{i+1}:Index{idx},Distance{distances[0][i]:.2f}\") "
   ]
  },
  {
   "cell_type": "code",
   "execution_count": 4,
   "id": "d3f2dd2c-1a9e-447a-a8a0-9a98ed12b6a9",
   "metadata": {},
   "outputs": [
    {
     "name": "stdout",
     "output_type": "stream",
     "text": [
      "Confusion Matrix:\n",
      " [[82 11]\n",
      " [31 76]]\n",
      "Accuracy Score: 0.79\n"
     ]
    }
   ],
   "source": [
    "from sklearn.metrics import confusion_matrix, accuracy_score\n",
    "y_pred=knn.predict(x_test)\n",
    "print(\"Confusion Matrix:\\n\",confusion_matrix(y_test,y_pred))\n",
    "print(\"Accuracy Score:\",accuracy_score(y_test,y_pred))"
   ]
  }
 ],
 "metadata": {
  "kernelspec": {
   "display_name": "Python 3 (ipykernel)",
   "language": "python",
   "name": "python3"
  },
  "language_info": {
   "codemirror_mode": {
    "name": "ipython",
    "version": 3
   },
   "file_extension": ".py",
   "mimetype": "text/x-python",
   "name": "python",
   "nbconvert_exporter": "python",
   "pygments_lexer": "ipython3",
   "version": "3.11.7"
  }
 },
 "nbformat": 4,
 "nbformat_minor": 5
}
